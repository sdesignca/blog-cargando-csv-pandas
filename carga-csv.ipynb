{
 "metadata": {
  "language_info": {
   "codemirror_mode": {
    "name": "ipython",
    "version": 3
   },
   "file_extension": ".py",
   "mimetype": "text/x-python",
   "name": "python",
   "nbconvert_exporter": "python",
   "pygments_lexer": "ipython3",
   "version": "3.9.4"
  },
  "orig_nbformat": 2,
  "kernelspec": {
   "name": "python394jvsc74a57bd0766ab629a9766e7efad68b738aa05724b1a7ecc6ecc84d726ba08293a2236b48",
   "display_name": "Python 3.9.4 64-bit"
  },
  "metadata": {
   "interpreter": {
    "hash": "766ab629a9766e7efad68b738aa05724b1a7ecc6ecc84d726ba08293a2236b48"
   }
  }
 },
 "nbformat": 4,
 "nbformat_minor": 2,
 "cells": [
  {
   "source": [
    "Importamos Libreria de pandas y le asignamos como alías **pd**, si no colocamos el alias, al momento de llamar la libreria debemos colocar por ejemplo **pandas**.read_csv\n"
   ],
   "cell_type": "markdown",
   "metadata": {}
  },
  {
   "cell_type": "code",
   "execution_count": 6,
   "metadata": {},
   "outputs": [],
   "source": [
    "import pandas as pd"
   ]
  },
  {
   "source": [
    "Seteamos formato de despliegue para valores decimales (flotantes) con dos dígitos decimales"
   ],
   "cell_type": "markdown",
   "metadata": {}
  },
  {
   "cell_type": "code",
   "execution_count": 7,
   "metadata": {},
   "outputs": [],
   "source": [
    "pd.options.display.float_format = '{:,.2f}'.format"
   ]
  },
  {
   "source": [
    "Cargamos datos a partir del archivo \"Datos.csv\" y colocamos como delimitador el caracter coma (,)"
   ],
   "cell_type": "markdown",
   "metadata": {}
  },
  {
   "cell_type": "code",
   "execution_count": 8,
   "metadata": {},
   "outputs": [],
   "source": [
    "datos = pd.read_csv(\"Datos.csv\",delimiter=',')"
   ]
  },
  {
   "source": [
    "Mostramos los datos cargados en la variable **datos**"
   ],
   "cell_type": "markdown",
   "metadata": {}
  },
  {
   "cell_type": "code",
   "execution_count": 9,
   "metadata": {},
   "outputs": [
    {
     "output_type": "execute_result",
     "data": {
      "text/plain": [
       "   C�digo   Apellidos Nombres G�nero  Edad Fecha de Ingreso  \\\n",
       "0       1  Mazariegos    Rene      M    19        1/01/2007   \n",
       "1       2     Ramirez  Gladys    NaN    35        1/01/2008   \n",
       "2       3       Ortiz  Silvia      F    42        1/06/2008   \n",
       "3       4    Alvarado   Maria      F    22        7/07/2008   \n",
       "4       5       Perez  Isabel      F    38        9/12/2008   \n",
       "\n",
       "                 Puesto  Ubicaci�n  Sueldo Base  Bonificaci�n    Total  \n",
       "0                Cajero        105     2,400.00      1,000.00 3,400.00  \n",
       "1  Personal de servicio        107     2,300.00      1,000.00 3,300.00  \n",
       "2             Gerente T        302     3,500.00      1,000.00 4,500.00  \n",
       "3  Personal de servicio        107     2,300.00      1,000.00 3,300.00  \n",
       "4            Supervisor        205     2,900.00      1,000.00 3,900.00  "
      ],
      "text/html": "<div>\n<style scoped>\n    .dataframe tbody tr th:only-of-type {\n        vertical-align: middle;\n    }\n\n    .dataframe tbody tr th {\n        vertical-align: top;\n    }\n\n    .dataframe thead th {\n        text-align: right;\n    }\n</style>\n<table border=\"1\" class=\"dataframe\">\n  <thead>\n    <tr style=\"text-align: right;\">\n      <th></th>\n      <th>C�digo</th>\n      <th>Apellidos</th>\n      <th>Nombres</th>\n      <th>G�nero</th>\n      <th>Edad</th>\n      <th>Fecha de Ingreso</th>\n      <th>Puesto</th>\n      <th>Ubicaci�n</th>\n      <th>Sueldo Base</th>\n      <th>Bonificaci�n</th>\n      <th>Total</th>\n    </tr>\n  </thead>\n  <tbody>\n    <tr>\n      <th>0</th>\n      <td>1</td>\n      <td>Mazariegos</td>\n      <td>Rene</td>\n      <td>M</td>\n      <td>19</td>\n      <td>1/01/2007</td>\n      <td>Cajero</td>\n      <td>105</td>\n      <td>2,400.00</td>\n      <td>1,000.00</td>\n      <td>3,400.00</td>\n    </tr>\n    <tr>\n      <th>1</th>\n      <td>2</td>\n      <td>Ramirez</td>\n      <td>Gladys</td>\n      <td>NaN</td>\n      <td>35</td>\n      <td>1/01/2008</td>\n      <td>Personal de servicio</td>\n      <td>107</td>\n      <td>2,300.00</td>\n      <td>1,000.00</td>\n      <td>3,300.00</td>\n    </tr>\n    <tr>\n      <th>2</th>\n      <td>3</td>\n      <td>Ortiz</td>\n      <td>Silvia</td>\n      <td>F</td>\n      <td>42</td>\n      <td>1/06/2008</td>\n      <td>Gerente T</td>\n      <td>302</td>\n      <td>3,500.00</td>\n      <td>1,000.00</td>\n      <td>4,500.00</td>\n    </tr>\n    <tr>\n      <th>3</th>\n      <td>4</td>\n      <td>Alvarado</td>\n      <td>Maria</td>\n      <td>F</td>\n      <td>22</td>\n      <td>7/07/2008</td>\n      <td>Personal de servicio</td>\n      <td>107</td>\n      <td>2,300.00</td>\n      <td>1,000.00</td>\n      <td>3,300.00</td>\n    </tr>\n    <tr>\n      <th>4</th>\n      <td>5</td>\n      <td>Perez</td>\n      <td>Isabel</td>\n      <td>F</td>\n      <td>38</td>\n      <td>9/12/2008</td>\n      <td>Supervisor</td>\n      <td>205</td>\n      <td>2,900.00</td>\n      <td>1,000.00</td>\n      <td>3,900.00</td>\n    </tr>\n  </tbody>\n</table>\n</div>"
     },
     "metadata": {},
     "execution_count": 9
    }
   ],
   "source": [
    "datos.head()"
   ]
  },
  {
   "source": [
    "Agregamos codificación \"latin1\" para despliegue de caractéres especiales"
   ],
   "cell_type": "markdown",
   "metadata": {}
  },
  {
   "cell_type": "code",
   "execution_count": 10,
   "metadata": {},
   "outputs": [],
   "source": [
    "datos = pd.read_csv(\"Datos.csv\",delimiter=',',encoding='latin1')"
   ]
  },
  {
   "source": [
    "Mostramos los datos cargados en la variable **datos**, utilizando la codificación *latin1*, desplegando los caractéres especiales"
   ],
   "cell_type": "markdown",
   "metadata": {}
  },
  {
   "cell_type": "code",
   "execution_count": 11,
   "metadata": {},
   "outputs": [
    {
     "output_type": "execute_result",
     "data": {
      "text/plain": [
       "   Código   Apellidos Nombres Género  Edad Fecha de Ingreso  \\\n",
       "0       1  Mazariegos    Rene      M    19        1/01/2007   \n",
       "1       2     Ramirez  Gladys    NaN    35        1/01/2008   \n",
       "2       3       Ortiz  Silvia      F    42        1/06/2008   \n",
       "3       4    Alvarado   Maria      F    22        7/07/2008   \n",
       "4       5       Perez  Isabel      F    38        9/12/2008   \n",
       "\n",
       "                 Puesto  Ubicación  Sueldo Base  Bonificación    Total  \n",
       "0                Cajero        105     2,400.00      1,000.00 3,400.00  \n",
       "1  Personal de servicio        107     2,300.00      1,000.00 3,300.00  \n",
       "2             Gerente T        302     3,500.00      1,000.00 4,500.00  \n",
       "3  Personal de servicio        107     2,300.00      1,000.00 3,300.00  \n",
       "4            Supervisor        205     2,900.00      1,000.00 3,900.00  "
      ],
      "text/html": "<div>\n<style scoped>\n    .dataframe tbody tr th:only-of-type {\n        vertical-align: middle;\n    }\n\n    .dataframe tbody tr th {\n        vertical-align: top;\n    }\n\n    .dataframe thead th {\n        text-align: right;\n    }\n</style>\n<table border=\"1\" class=\"dataframe\">\n  <thead>\n    <tr style=\"text-align: right;\">\n      <th></th>\n      <th>Código</th>\n      <th>Apellidos</th>\n      <th>Nombres</th>\n      <th>Género</th>\n      <th>Edad</th>\n      <th>Fecha de Ingreso</th>\n      <th>Puesto</th>\n      <th>Ubicación</th>\n      <th>Sueldo Base</th>\n      <th>Bonificación</th>\n      <th>Total</th>\n    </tr>\n  </thead>\n  <tbody>\n    <tr>\n      <th>0</th>\n      <td>1</td>\n      <td>Mazariegos</td>\n      <td>Rene</td>\n      <td>M</td>\n      <td>19</td>\n      <td>1/01/2007</td>\n      <td>Cajero</td>\n      <td>105</td>\n      <td>2,400.00</td>\n      <td>1,000.00</td>\n      <td>3,400.00</td>\n    </tr>\n    <tr>\n      <th>1</th>\n      <td>2</td>\n      <td>Ramirez</td>\n      <td>Gladys</td>\n      <td>NaN</td>\n      <td>35</td>\n      <td>1/01/2008</td>\n      <td>Personal de servicio</td>\n      <td>107</td>\n      <td>2,300.00</td>\n      <td>1,000.00</td>\n      <td>3,300.00</td>\n    </tr>\n    <tr>\n      <th>2</th>\n      <td>3</td>\n      <td>Ortiz</td>\n      <td>Silvia</td>\n      <td>F</td>\n      <td>42</td>\n      <td>1/06/2008</td>\n      <td>Gerente T</td>\n      <td>302</td>\n      <td>3,500.00</td>\n      <td>1,000.00</td>\n      <td>4,500.00</td>\n    </tr>\n    <tr>\n      <th>3</th>\n      <td>4</td>\n      <td>Alvarado</td>\n      <td>Maria</td>\n      <td>F</td>\n      <td>22</td>\n      <td>7/07/2008</td>\n      <td>Personal de servicio</td>\n      <td>107</td>\n      <td>2,300.00</td>\n      <td>1,000.00</td>\n      <td>3,300.00</td>\n    </tr>\n    <tr>\n      <th>4</th>\n      <td>5</td>\n      <td>Perez</td>\n      <td>Isabel</td>\n      <td>F</td>\n      <td>38</td>\n      <td>9/12/2008</td>\n      <td>Supervisor</td>\n      <td>205</td>\n      <td>2,900.00</td>\n      <td>1,000.00</td>\n      <td>3,900.00</td>\n    </tr>\n  </tbody>\n</table>\n</div>"
     },
     "metadata": {},
     "execution_count": 11
    }
   ],
   "source": [
    "datos.head()"
   ]
  },
  {
   "source": [
    "Verificamos el tipo de dato de las columnas cargadas desde el archivo CSV en la variable **datos**"
   ],
   "cell_type": "markdown",
   "metadata": {}
  },
  {
   "cell_type": "code",
   "execution_count": 12,
   "metadata": {},
   "outputs": [
    {
     "output_type": "execute_result",
     "data": {
      "text/plain": [
       "Código                int64\n",
       "Apellidos            object\n",
       "Nombres              object\n",
       "Género               object\n",
       "Edad                  int64\n",
       "Fecha de Ingreso     object\n",
       "Puesto               object\n",
       "Ubicación             int64\n",
       "Sueldo Base         float64\n",
       "Bonificación        float64\n",
       "Total               float64\n",
       "dtype: object"
      ]
     },
     "metadata": {},
     "execution_count": 12
    }
   ],
   "source": [
    "datos.dtypes"
   ]
  },
  {
   "source": [
    "La columna \"**Feca de Ingreso**\" es de tipo *object* por lo que convertimos el tipo de dato a fecha (datetime) al momento de cargar la información desde el archivo CSV"
   ],
   "cell_type": "markdown",
   "metadata": {}
  },
  {
   "cell_type": "code",
   "execution_count": 13,
   "metadata": {},
   "outputs": [],
   "source": [
    "datos = pd.read_csv(\"Datos.csv\"\n",
    "                    ,delimiter=','\n",
    "                    ,encoding='latin1'\n",
    "                    ,parse_dates=['Fecha de Ingreso']\n",
    "                    )"
   ]
  },
  {
   "source": [
    "Verificamos nuevamente el tipo de dato de las columnas cargadas, para validar el cambio de *object* a *datetime* de la columna \"**Fecha de Ingreso**\""
   ],
   "cell_type": "markdown",
   "metadata": {}
  },
  {
   "cell_type": "code",
   "execution_count": 14,
   "metadata": {},
   "outputs": [
    {
     "output_type": "execute_result",
     "data": {
      "text/plain": [
       "Código                       int64\n",
       "Apellidos                   object\n",
       "Nombres                     object\n",
       "Género                      object\n",
       "Edad                         int64\n",
       "Fecha de Ingreso    datetime64[ns]\n",
       "Puesto                      object\n",
       "Ubicación                    int64\n",
       "Sueldo Base                float64\n",
       "Bonificación               float64\n",
       "Total                      float64\n",
       "dtype: object"
      ]
     },
     "metadata": {},
     "execution_count": 14
    }
   ],
   "source": [
    "datos.dtypes"
   ]
  },
  {
   "source": [
    "Cargando unicamente datos de las columnas \"Código\", \"Fecha de Ingreso\", \"Sueldo Base\" y \"Bonificación\", desde el archivo CSV"
   ],
   "cell_type": "markdown",
   "metadata": {}
  },
  {
   "cell_type": "code",
   "execution_count": 15,
   "metadata": {},
   "outputs": [],
   "source": [
    "datos = pd.read_csv(\"Datos.csv\"\n",
    "                    ,delimiter=','\n",
    "                    ,encoding='latin1'\n",
    "                    ,parse_dates=['Fecha de Ingreso']\n",
    "                    ,usecols=['Código','Fecha de Ingreso','Sueldo Base','Bonificación']\n",
    "                    )\n"
   ]
  },
  {
   "source": [
    "Verificamos que se hayan cargado unicamente las columnas \"Código\", \"Fecha de Ingreso\", \"Sueldo Base\" y \"Bonificación\" a neustra variable **datos**"
   ],
   "cell_type": "markdown",
   "metadata": {}
  },
  {
   "cell_type": "code",
   "execution_count": 16,
   "metadata": {},
   "outputs": [
    {
     "output_type": "execute_result",
     "data": {
      "text/plain": [
       "   Código Fecha de Ingreso  Sueldo Base  Bonificación\n",
       "0       1       2007-01-01     2,400.00      1,000.00\n",
       "1       2       2008-01-01     2,300.00      1,000.00\n",
       "2       3       2008-01-06     3,500.00      1,000.00\n",
       "3       4       2008-07-07     2,300.00      1,000.00\n",
       "4       5       2008-09-12     2,900.00      1,000.00"
      ],
      "text/html": "<div>\n<style scoped>\n    .dataframe tbody tr th:only-of-type {\n        vertical-align: middle;\n    }\n\n    .dataframe tbody tr th {\n        vertical-align: top;\n    }\n\n    .dataframe thead th {\n        text-align: right;\n    }\n</style>\n<table border=\"1\" class=\"dataframe\">\n  <thead>\n    <tr style=\"text-align: right;\">\n      <th></th>\n      <th>Código</th>\n      <th>Fecha de Ingreso</th>\n      <th>Sueldo Base</th>\n      <th>Bonificación</th>\n    </tr>\n  </thead>\n  <tbody>\n    <tr>\n      <th>0</th>\n      <td>1</td>\n      <td>2007-01-01</td>\n      <td>2,400.00</td>\n      <td>1,000.00</td>\n    </tr>\n    <tr>\n      <th>1</th>\n      <td>2</td>\n      <td>2008-01-01</td>\n      <td>2,300.00</td>\n      <td>1,000.00</td>\n    </tr>\n    <tr>\n      <th>2</th>\n      <td>3</td>\n      <td>2008-01-06</td>\n      <td>3,500.00</td>\n      <td>1,000.00</td>\n    </tr>\n    <tr>\n      <th>3</th>\n      <td>4</td>\n      <td>2008-07-07</td>\n      <td>2,300.00</td>\n      <td>1,000.00</td>\n    </tr>\n    <tr>\n      <th>4</th>\n      <td>5</td>\n      <td>2008-09-12</td>\n      <td>2,900.00</td>\n      <td>1,000.00</td>\n    </tr>\n  </tbody>\n</table>\n</div>"
     },
     "metadata": {},
     "execution_count": 16
    }
   ],
   "source": [
    "datos.head()"
   ]
  }
 ]
}